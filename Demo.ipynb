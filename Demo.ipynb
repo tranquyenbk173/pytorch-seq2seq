{
  "nbformat": 4,
  "nbformat_minor": 0,
  "metadata": {
    "colab": {
      "name": "Demo",
      "provenance": [],
      "authorship_tag": "ABX9TyNy7eaaC3dG1RVROtptj/CI",
      "include_colab_link": true
    },
    "kernelspec": {
      "name": "python3",
      "display_name": "Python 3"
    }
  },
  "cells": [
    {
      "cell_type": "markdown",
      "metadata": {
        "id": "view-in-github",
        "colab_type": "text"
      },
      "source": [
        "<a href=\"https://colab.research.google.com/github/tranquyenbk173/pytorch-seq2seq/blob/master/Demo.ipynb\" target=\"_parent\"><img src=\"https://colab.research.google.com/assets/colab-badge.svg\" alt=\"Open In Colab\"/></a>"
      ]
    },
    {
      "cell_type": "markdown",
      "metadata": {
        "id": "h3ZTWcn8SJ-_"
      },
      "source": [
        "### Task 1"
      ]
    },
    {
      "cell_type": "code",
      "metadata": {
        "colab": {
          "base_uri": "https://localhost:8080/"
        },
        "id": "yuFcs7muSIwJ",
        "outputId": "a37aafc5-8537-4151-98ed-ad39f55edb03"
      },
      "source": [
        "#BLEU = "
      ],
      "execution_count": null,
      "outputs": [
        {
          "output_type": "stream",
          "text": [
            "--------------------------------------------\n",
            "src = ấy mua bộ đồ này ở đâu thế ?\n",
            "trg = where do you buy clothes ?\n",
            "predicted trg = who is the <unk> ? <eos>\n",
            "bleu score = 0.408248290463863\n",
            "--------------------------------------------\n",
            "src = cô ấy học tiếng pháp và thiết_kế web .\n",
            "trg = she 's studying french and web design .\n",
            "predicted trg = she <unk> <unk> <unk> <unk> <unk> . <eos>\n",
            "bleu score = 0.3535533905932738\n",
            "--------------------------------------------\n",
            "src = khả_năng nghe của người mù thường rất tốt .\n",
            "trg = a blind person 's hearing is often very acute .\n",
            "predicted trg = the <unk> is <unk> <unk> . <eos>\n",
            "bleu score = 0.3779644730092272\n",
            "--------------------------------------------\n",
            "src = tôi bảo tom dọn phỏng của anh ta nhưng anh ta đã không làm .\n",
            "trg = i told tom to clean his room , but he did n't .\n",
            "predicted trg = i was <unk> to <unk> to she needed to . <eos>\n",
            "bleu score = 0.4264014327112209\n",
            "--------------------------------------------\n",
            "src = nhà anh ta ở gần đường ngầm .\n",
            "trg = his house is near the subway .\n",
            "predicted trg = he left the <unk> in the <unk> . <eos>\n",
            "bleu score = 0.3333333333333333\n",
            "--------------------------------------------\n",
            "src = tụi bây nghĩ cô ấy ở với ai ?\n",
            "trg = who do you think she lives with ?\n",
            "predicted trg = when you you to the to to ? <eos>\n",
            "bleu score = 0.3333333333333333\n",
            "--------------------------------------------\n",
            "src = làm_việc đó thì có hại gì ?\n",
            "trg = what 's the harm in doing that ?\n",
            "predicted trg = what 's you <unk> to <unk> ? <eos>\n",
            "bleu score = 0.3535533905932738\n",
            "--------------------------------------------\n",
            "src = bài hát này quen_thuộc với tụi tao .\n",
            "trg = this song is familiar to us .\n",
            "predicted trg = this is that 's familiar to me . <eos>\n",
            "bleu score = 0.3333333333333333\n",
            "--------------------------------------------\n",
            "src = đừng lâu hơn năm phút .\n",
            "trg = do n't take more than five minutes .\n"
          ],
          "name": "stdout"
        },
        {
          "output_type": "stream",
          "text": [
            "/usr/local/lib/python3.6/dist-packages/nltk/translate/bleu_score.py:490: UserWarning: \n",
            "Corpus/Sentence contains 0 counts of 2-gram overlaps.\n",
            "BLEU scores might be undesirable; use SmoothingFunction().\n",
            "  warnings.warn(_msg)\n"
          ],
          "name": "stderr"
        },
        {
          "output_type": "stream",
          "text": [
            "predicted trg = do n't not to to to in the . <eos>\n",
            "bleu score = 0.316227766016838\n",
            "--------------------------------------------\n",
            "src = ông ta có ria mép .\n",
            "trg = the men have mustaches .\n",
            "predicted trg = he <unk> <unk> <unk> . <eos>\n",
            "bleu score = 0.408248290463863\n",
            "--------------------------------------------\n",
            "src = chúng_tôi từng đánh nhau .\n",
            "trg = we used to fight .\n",
            "predicted trg = we have to <unk> . <eos>\n",
            "bleu score = 0.408248290463863\n",
            "--------------------------------------------\n",
            "src = mẹ của mày có ở nhà không ?\n",
            "trg = is your mother at home ?\n",
            "predicted trg = is your mother at home ? <eos>\n",
            "bleu score = 0.3779644730092272\n",
            "--------------------------------------------\n",
            "src = tôi ngủ có 2 tiếng à . hèn_chi ( bây_giờ ) buồn_ngủ ghê .\n",
            "trg = i slept only two hours . no wonder i 'm sleepy .\n",
            "predicted trg = i have to <unk> <unk> . <eos>\n",
            "bleu score = 0.5345224838248488\n",
            "--------------------------------------------\n",
            "src = thắng_bé tháo cái đài ra từng phần .\n",
            "trg = the boy took the radio apart .\n",
            "predicted trg = the <unk> <unk> <unk> <unk> <unk> . <eos>\n",
            "bleu score = 0.3535533905932738\n",
            "--------------------------------------------\n",
            "src = tao đang đợi bạn của tao .\n",
            "trg = i 'm waiting for my friend .\n",
            "predicted trg = i 'm waiting for my boyfriend . <eos>\n",
            "bleu score = 0.5\n",
            "--------------------------------------------\n",
            "src = cô ấy bị_cáo_buộc giết anh ta .\n",
            "trg = she allegedly murdered him .\n",
            "predicted trg = she <unk> his <unk> with him . <eos>\n",
            "bleu score = 0.3535533905932738\n",
            "--------------------------------------------\n",
            "src = chúng_tôi luôn đi bộ ngang qua bưu_điện trên đường đi làm\n",
            "trg = we always walk by the post office on the way to work .\n",
            "predicted trg = we 're going to go to <unk> , <unk> . <eos>\n",
            "bleu score = 0.30151134457776363\n",
            "--------------------------------------------\n",
            "src = những thứ lấp_lánh đó không phải vàng .\n",
            "trg = all that glitters is not gold .\n",
            "predicted trg = this is n't <unk> to be . <eos>\n",
            "bleu score = 0.3535533905932738\n",
            "--------------------------------------------\n",
            "src = đó là một buổi chiều bận_rộn\n",
            "trg = it was a busy afternoon .\n",
            "predicted trg = it 's a <unk> from <unk> . <eos>\n",
            "bleu score = 0.4412484512922977\n",
            "--------------------------------------------\n",
            "src = nó đã ngưng đọc sách .\n",
            "trg = he stopped reading a book .\n",
            "predicted trg = he finished reading reading reading reading . <eos>\n",
            "bleu score = 0.3535533905932738\n"
          ],
          "name": "stdout"
        }
      ]
    },
    {
      "cell_type": "markdown",
      "metadata": {
        "id": "6bGFo2qcHtou"
      },
      "source": [
        "### Task 2 - fra_to_eng"
      ]
    },
    {
      "cell_type": "markdown",
      "metadata": {
        "id": "xTW6svJnH1Am"
      },
      "source": [
        "viet_eng"
      ]
    },
    {
      "cell_type": "code",
      "metadata": {
        "id": "7HpwOrNFLkyi",
        "colab": {
          "base_uri": "https://localhost:8080/"
        },
        "outputId": "ed90e50f-5829-4c07-ed5a-470990c926e5"
      },
      "source": [
        "#BLEU = 39.84"
      ],
      "execution_count": null,
      "outputs": [
        {
          "output_type": "stream",
          "text": [
            "--------------------------------------------\n",
            "src = ['tom', 'giups', 'mary', 'làm_bếp', '.']\n",
            "trg = ['tom', 'helped', 'mary', 'in', 'the', 'kitchen', '.']\n",
            "predicted trg = ['<unk>', '<unk>', '<unk>', '<unk>', '.', '<eos>']\n",
            "bleu score = 0.408248290463863\n",
            "--------------------------------------------\n",
            "src = ['có_thể', 'anh', 'bị', 'cảm', 'nhẹ', 'rồi', '.']\n",
            "trg = ['you', 'may', 'have', 'a', 'slight', 'fever', '.']\n",
            "predicted trg = ['i', 'how', 'why', '<unk>', '<unk>', '.', '<eos>']\n",
            "bleu score = 0.5345224838248488\n",
            "--------------------------------------------\n",
            "src = ['đừng', 'quên', 'đến', 'đón', 'em', 'sáng_mai', '.']\n",
            "trg = ['do', \"n't\", 'forget', 'to', 'pick', 'me', 'up', 'tomorrow', 'morning', '.']\n",
            "predicted trg = ['i', \"n't\", 'a', 'at', 'my', 'to', '.', '<eos>']\n",
            "bleu score = 0.5\n",
            "--------------------------------------------\n",
            "src = ['chúng_tôi', 'hết_sức', 'xin_lỗi', 'về', 'chuyện', 'đã', 'xảy', 'ra', '.']\n",
            "trg = ['we', \"'re\", 'sorry', 'about', 'it', '.']\n",
            "predicted trg = ['used', 'i', 'how', 'why', 'one', '<unk>', '.', '<eos>']\n",
            "bleu score = 0.5\n",
            "--------------------------------------------\n",
            "src = ['ô_tô', 'của', 'tôi', 'đã', 'bị', 'hỏng', 'sáng', 'nay', 'và', 'sẽ', 'không', 'được', 'sửa', 'xong', 'trước', 'thứ', 'sáu', '.']\n",
            "trg = ['my', 'car', 'broke', 'down', 'this', 'morning', 'and', 'wo', \"n't\", 'be', 'repaired', 'until', 'friday', '.']\n",
            "predicted trg = ['of', 'has', 'i', 'has', 'the', 'to', 'have', 'i', 'have', 'i', 'have', 'i', '<unk>', 'have', 'i', '<unk>', '.', '<eos>']\n",
            "bleu score = 0.3333333333333333\n",
            "--------------------------------------------\n",
            "src = ['khi', 'cô', 'ta', 'chuẩn_bị', 'đi', 'ngủ', 'thì', 'có', 'người', 'gõ_cửa', '.']\n",
            "trg = ['she', 'was', 'about', 'to', 'go', 'to', 'bed', 'when', 'someone', 'knocked', 'on', 'the', 'door', '.']\n",
            "predicted trg = ['it', 'he', \"'ll\", 'the', 'speak', 'this', '.', '<eos>']\n",
            "bleu score = 0.3535533905932738\n",
            "--------------------------------------------\n",
            "src = ['bạn', 'có_thể', 'giúp', 'tôi', 'rửa', 'trái', 'táo', 'này', 'không', '?']\n",
            "trg = ['could', 'you', 'please', 'wash', 'this', 'apple', 'for', 'me', '?']\n"
          ],
          "name": "stdout"
        },
        {
          "output_type": "stream",
          "text": [
            "/usr/local/lib/python3.6/dist-packages/nltk/translate/bleu_score.py:490: UserWarning: \n",
            "Corpus/Sentence contains 0 counts of 2-gram overlaps.\n",
            "BLEU scores might be undesirable; use SmoothingFunction().\n",
            "  warnings.warn(_msg)\n"
          ],
          "name": "stderr"
        },
        {
          "output_type": "stream",
          "text": [
            "predicted trg = [\"n't\", 'a', \"n't\", 'a', 'i', 'your', 'the', \"n't\", 'a', \"n't\", '.', '<eos>']\n",
            "bleu score = 0.408248290463863\n",
            "--------------------------------------------\n",
            "src = ['tom', 'đến', 'từ', 'một', 'gia_đình', 'có', 'truyền_thống', 'âm_nhạc', '.']\n",
            "trg = ['tom', 'comes', 'from', 'a', 'musical', 'family', '.']\n",
            "predicted trg = ['to', 'young', 'by', 'it', 'the', 'you', '.', '<eos>']\n",
            "bleu score = 0.3535533905932738\n",
            "--------------------------------------------\n",
            "src = ['tôi', 'thà', 'không', '.']\n",
            "trg = ['i', \"'d\", 'rather', 'not', '.']\n",
            "predicted trg = ['i', 'does', 'on', '<unk>', '.', '<eos>']\n",
            "bleu score = 0.5773502691896257\n",
            "--------------------------------------------\n",
            "src = ['tôi', 'là', 'người', 'mỹ', ',', 'nhưng', 'tôi', 'có_thể', 'nói', 'được', 'một_ít', 'tiếng', 'nhật', '.']\n",
            "trg = ['i', \"'m\", 'american', ',', 'but', 'i', 'can', 'speak', 'japanese', 'a', 'little', '.']\n",
            "predicted trg = ['i', 'to', 'to', 'the', 'i', 'please', 'go', 'i', 'late', 'i', 'late', '.', '<eos>']\n",
            "bleu score = 0.3922322702763681\n",
            "--------------------------------------------\n",
            "src = ['nhà', 'của', 'bạn', 'có', 'xa', 'công_ty', '(', 'của', 'bạn', ')', 'không', '?']\n",
            "trg = ['is', 'your', 'house', 'far', 'from', 'your', 'company', '?']\n",
            "predicted trg = ['do', 'is', 'a', '<unk>', '<unk>', '<unk>', '.', '<eos>']\n",
            "bleu score = 0.3535533905932738\n",
            "--------------------------------------------\n",
            "src = ['đây', 'là', 'bạn', 'của', 'bọn', 'tớ', ',', 'tom']\n",
            "trg = ['this', 'is', 'our', 'friend', 'tom', '.']\n",
            "predicted trg = ['my', 'to', \"n't\", 'that', 'do', 'tom', '<eos>']\n",
            "bleu score = 0\n",
            "--------------------------------------------\n",
            "src = ['tôi', 'không', 'hiểu', '.']\n",
            "trg = ['i', 'do', \"n't\", 'know', '.']\n",
            "predicted trg = ['i', \"n't\", 'a', 'at', 'mary', 'the', 'to', '.', '<eos>']\n",
            "bleu score = 0.4714045207910317\n",
            "--------------------------------------------\n",
            "src = ['tom', 'đã', 'bị', 'chán_nản', '.']\n",
            "trg = ['tom', 'was', 'depressed', '.']\n",
            "predicted trg = ['what', 'young', 'you', 'each', 'tom', '<eos>']\n",
            "bleu score = 0\n",
            "--------------------------------------------\n",
            "src = ['tất_cả', 'các', 'phòng', 'đều', 'bị', 'kiểm_tra', 'kỹ_lưỡng', '.']\n",
            "trg = ['every', 'room', 'was', 'searched', 'thoroughly', '.']\n",
            "predicted trg = ['she', '<unk>', 'is', 'the', '<unk>', '.', '<eos>']\n",
            "bleu score = 0.3276490485424231\n",
            "--------------------------------------------\n",
            "src = ['công_ty', 'chỗ', 'cậu', 'làm', 'tên', 'gì', '?']\n",
            "trg = ['what', \"'s\", 'the', 'name', 'of', 'the', 'company', 'you', 'work', 'for', '?']\n",
            "predicted trg = ['do', 'is', 'all', 'have', 'do', 'is', 'do', '.', '<eos>']\n",
            "bleu score = 0\n",
            "--------------------------------------------\n",
            "src = ['tôi', 'không', 'có', 'gì', 'tốt', 'hơn', 'để', 'làm', 'hết', '.']\n",
            "trg = ['i', 'have', 'nothing', 'better', 'to', 'do', '.']\n",
            "predicted trg = ['i', 'got', 'do', 'is', 'a', 'go', 'the', '.', '<eos>']\n",
            "bleu score = 0.5773502691896257\n",
            "--------------------------------------------\n",
            "src = ['anh', 'ta', 'đành', 'cam_chịu', 'một', 'buổi', 'tối', 'chán_nản', '.']\n",
            "trg = ['he', 'resigned', 'himself', 'to', 'spending', 'a', 'boring', 'evening', '.']\n",
            "predicted trg = ['you', '<unk>', 'is', '<unk>', 'have', 'i', \"n't\", '.', '<eos>']\n",
            "bleu score = 0.4714045207910317\n",
            "--------------------------------------------\n",
            "src = ['bạn', 'trông', 'tái_nhợt', '.']\n",
            "trg = ['you', 'look', 'pale', '.']\n",
            "predicted trg = [\"n't\", 'a', 'on', '<unk>', '.', '<eos>']\n",
            "bleu score = 0.5773502691896257\n",
            "--------------------------------------------\n",
            "src = ['giá_mà', 'tôi', 'có_thể', 'học', 'tiếng', 'pháp', '.']\n",
            "trg = ['i', 'wish', 'i', 'could', 'study', 'french', '.']\n",
            "predicted trg = ['let', 'i', 'does', 'to', 'the', 'to', '.', '<eos>']\n",
            "bleu score = 0.5\n"
          ],
          "name": "stdout"
        }
      ]
    },
    {
      "cell_type": "markdown",
      "metadata": {
        "id": "oAK-dWl7MSG7"
      },
      "source": [
        "fra_eng"
      ]
    },
    {
      "cell_type": "code",
      "metadata": {
        "colab": {
          "base_uri": "https://localhost:8080/"
        },
        "id": "Z5xKL4nFLSr_",
        "outputId": "eb28fcc9-a3a3-4083-b309-87dd617be537"
      },
      "source": [
        "#BLEU = "
      ],
      "execution_count": null,
      "outputs": [
        {
          "output_type": "stream",
          "text": [
            "--------------------------------------------\n",
            "src = je suis également affairé .\n",
            "trg = i 'm busy , too .\n",
            "predicted trg = i 'm not <unk> . <eos>\n",
            "bleu score = 0.5773502691896257\n",
            "--------------------------------------------\n",
            "src = je aurais souhaité qu' il soit venu au meeting .\n",
            "trg = i wish he had attended the meeting .\n",
            "predicted trg = i 'm going to the <unk> . <eos>\n",
            "bleu score = 0.5\n",
            "--------------------------------------------\n",
            "src = parfois je ne peux pas lui faire confiance .\n",
            "trg = at times , i ca n't trust him .\n",
            "predicted trg = my i do n't do n't do . <eos>\n",
            "bleu score = 0.4714045207910317\n",
            "--------------------------------------------\n",
            "src = tu es très curieuse .\n",
            "trg = you 're very curious .\n",
            "predicted trg = you 're very generous . <eos>\n",
            "bleu score = 0.3455747170954952\n",
            "--------------------------------------------\n",
            "src = voulez - vous , vous , le faire maintenant ?\n",
            "trg = do you want to do this now ?\n",
            "predicted trg = do you you you to do you ? <eos>\n",
            "bleu score = 0.3333333333333333\n",
            "--------------------------------------------\n",
            "src = je m' excuse , mais je ne peux pas rester longtemps .\n",
            "trg = i 'm sorry , but i ca n't stay for long .\n",
            "predicted trg = i 'm sorry , i 'm i am i 'm . <eos>\n",
            "bleu score = 0.5\n",
            "--------------------------------------------\n",
            "src = ce n' est pas sympa .\n",
            "trg = that 's not nice .\n",
            "predicted trg = this is not true . <eos>\n",
            "bleu score = 0.408248290463863\n",
            "--------------------------------------------\n",
            "src = l' équipe approuva sa proposition .\n",
            "trg = the team approved his proposal .\n",
            "predicted trg = the <unk> <unk> <unk> <unk> . <eos>\n",
            "bleu score = 0.3276490485424231\n",
            "--------------------------------------------\n",
            "src = comment as - tu découvert où tom habitait ?\n",
            "trg = how did you find out where tom lives ?\n"
          ],
          "name": "stdout"
        },
        {
          "output_type": "stream",
          "text": [
            "/usr/local/lib/python3.6/dist-packages/nltk/translate/bleu_score.py:490: UserWarning: \n",
            "Corpus/Sentence contains 0 counts of 2-gram overlaps.\n",
            "BLEU scores might be undesirable; use SmoothingFunction().\n",
            "  warnings.warn(_msg)\n"
          ],
          "name": "stderr"
        },
        {
          "output_type": "stream",
          "text": [
            "predicted trg = how do you you that this ? <eos>\n",
            "bleu score = 0.3535533905932738\n",
            "--------------------------------------------\n",
            "src = je pense que tu es un peu trop prudent .\n",
            "trg = i think you 're being a little too careful .\n",
            "predicted trg = i think you 're a little careful . <eos>\n",
            "bleu score = 0.5773502691896257\n",
            "--------------------------------------------\n",
            "src = c' était très efficace .\n",
            "trg = that was really effective .\n",
            "predicted trg = that was very <unk> . <eos>\n",
            "bleu score = 0.408248290463863\n",
            "--------------------------------------------\n",
            "src = dépêche - toi , je te prie !\n",
            "trg = hurry up , please .\n",
            "predicted trg = please keep us to go . <eos>\n",
            "bleu score = 0.3779644730092272\n",
            "--------------------------------------------\n",
            "src = motus et bouche cousue .\n",
            "trg = mum 's the word .\n",
            "predicted trg = <unk> <unk> <unk> <unk> <unk> . <eos>\n",
            "bleu score = 0.3779644730092272\n",
            "--------------------------------------------\n",
            "src = ma sœur est la marraine de ma fille .\n",
            "trg = my sister is my daughter 's godmother .\n",
            "predicted trg = my sister is a <unk> with his <unk> . <eos>\n",
            "bleu score = 0.447213595499958\n",
            "--------------------------------------------\n",
            "src = tu sembles être un mec occupé .\n",
            "trg = you seem to be a busy guy .\n",
            "predicted trg = you 're very a great memory . <eos>\n",
            "bleu score = 0.5\n",
            "--------------------------------------------\n",
            "src = depuis qu' elle porte un appareil dentaire , je l' ai à peine vue sourire .\n",
            "trg = since she got her braces , i 've hardly seen her smile .\n",
            "predicted trg = if he <unk> him him , i had him . <eos>\n",
            "bleu score = 0.5222329678670935\n",
            "--------------------------------------------\n",
            "src = tom est neurologue .\n",
            "trg = tom is a neurologist .\n",
            "predicted trg = tom is <unk> . <eos>\n",
            "bleu score = 0.447213595499958\n",
            "--------------------------------------------\n",
            "src = je sais que vous avez une nana .\n",
            "trg = i know you have a girlfriend .\n",
            "predicted trg = i know you 're a <unk> . <eos>\n",
            "bleu score = 0.4769161324512283\n",
            "--------------------------------------------\n",
            "src = tom n' est pas allé à l' université .\n",
            "trg = tom did n't go to college .\n",
            "predicted trg = tom did n't go to the . <eos>\n",
            "bleu score = 0.3535533905932738\n",
            "--------------------------------------------\n",
            "src = ton plan n' a pas fonctionné .\n",
            "trg = your plan did n't work .\n",
            "predicted trg = your plan to be . <eos>\n",
            "bleu score = 0.408248290463863\n"
          ],
          "name": "stdout"
        }
      ]
    },
    {
      "cell_type": "markdown",
      "metadata": {
        "id": "diKfm4Q2MXTZ"
      },
      "source": [
        "### Task 3"
      ]
    },
    {
      "cell_type": "code",
      "metadata": {
        "id": "0CxwRxiJMZOl"
      },
      "source": [
        ""
      ],
      "execution_count": null,
      "outputs": []
    },
    {
      "cell_type": "markdown",
      "metadata": {
        "id": "QR2jK4NmRlpp"
      },
      "source": [
        "viet_eng"
      ]
    },
    {
      "cell_type": "code",
      "metadata": {
        "colab": {
          "base_uri": "https://localhost:8080/"
        },
        "id": "6v51gJ9gRkNN",
        "outputId": "654bc25a-4103-413f-f779-47e5ea435379"
      },
      "source": [
        "#BLEU = "
      ],
      "execution_count": null,
      "outputs": [
        {
          "output_type": "stream",
          "text": [
            "--------------------------------------------\n",
            "src = tom sống một_mình trong rừng .\n",
            "trg = tom lives by himself in the woods .\n",
            "predicted trg = to how times stayed tom . . <eos>\n",
            "bleu score = 0.3535533905932738\n",
            "--------------------------------------------\n",
            "src = bảy giờ tôi sẽ đi đón bạn .\n",
            "trg = i will call for you at seven .\n",
            "predicted trg = the the last not outside ? <eos>\n",
            "bleu score = 0\n",
            "--------------------------------------------\n",
            "src = tôi sẽ mua một chiếc đồng_hồ cho con tôi .\n",
            "trg = i 'll buy a watch for my son .\n",
            "predicted trg = he it tom <unk> we was have . <eos>\n",
            "bleu score = 0.3333333333333333\n",
            "--------------------------------------------\n",
            "src = hy_vọng những ước_muốn của bạn sẽ thành sự_thật .\n",
            "trg = i hope your wishes will come true .\n",
            "predicted trg = think for n't <unk> <unk> <unk> . . <eos>\n",
            "bleu score = 0.3333333333333333\n",
            "--------------------------------------------\n",
            "src = họ không hiểu điện_thoại_di_động hoạt_động ra sao .\n",
            "trg = they do not understand how mobile phones work .\n",
            "predicted trg = have is is <unk> is <unk> . <eos>\n",
            "bleu score = 0.3535533905932738\n",
            "--------------------------------------------\n",
            "src = nhà của bạn có xa công_ty ( của bạn ) không ?\n",
            "trg = is your house far from your company ?\n",
            "predicted trg = would the the the you do i . <eos>\n",
            "bleu score = 0.3333333333333333\n",
            "--------------------------------------------\n",
            "src = đó là một giả_thuyết thú_vị .\n",
            "trg = that 's an interesting hypothesis .\n",
            "predicted trg = of is she group . <eos>\n",
            "bleu score = 0.408248290463863\n",
            "--------------------------------------------\n",
            "src = không có gì quan_trọng hơn tình bạn .\n",
            "trg = nothing is more important than friendship .\n",
            "predicted trg = i it <unk> the the my the ? <eos>\n",
            "bleu score = 0.3333333333333333\n",
            "--------------------------------------------\n",
            "src = hôm bữa đi chơi chụp được bao_nhiêu tấm hình vậy ?\n",
            "trg = how many pictures did you take on your trip ?\n"
          ],
          "name": "stdout"
        },
        {
          "output_type": "stream",
          "text": [
            "/usr/local/lib/python3.6/dist-packages/nltk/translate/bleu_score.py:490: UserWarning: \n",
            "Corpus/Sentence contains 0 counts of 2-gram overlaps.\n",
            "BLEU scores might be undesirable; use SmoothingFunction().\n",
            "  warnings.warn(_msg)\n"
          ],
          "name": "stderr"
        },
        {
          "output_type": "stream",
          "text": [
            "predicted trg = tom <unk> tom <unk> we tom <unk> we <unk> . <eos>\n",
            "bleu score = 0\n",
            "--------------------------------------------\n",
            "src = bà ấy dạy tiếng anh cho sinh_viên các lớp cao .\n",
            "trg = she teaches english to advanced students .\n",
            "predicted trg = the for you you you you tom plan . <eos>\n",
            "bleu score = 0.316227766016838\n",
            "--------------------------------------------\n",
            "src = mẹ tôi nói tiếng anh không được giỏi cho lắm .\n",
            "trg = my mom does n't speak english very well .\n",
            "predicted trg = to do a here i you you you you be . <eos>\n",
            "bleu score = 0.5\n",
            "--------------------------------------------\n",
            "src = tom nói với mẹ là cậu ta sẽ học sau bữa tối .\n",
            "trg = tom told his mother he would study after dinner .\n",
            "predicted trg = to all n't <unk> we something of it n't <unk> . <eos>\n",
            "bleu score = 0.28867513459481287\n",
            "--------------------------------------------\n",
            "src = đây là cuốn sách mà bạn đang tìm đấy .\n",
            "trg = here is the book you are looking for .\n",
            "predicted trg = he it her for you you you no . <eos>\n",
            "bleu score = 0.316227766016838\n",
            "--------------------------------------------\n",
            "src = bánh_quy vỡ ra nhưng thế này nè .\n",
            "trg = that 's the way the cookie crumbles .\n",
            "predicted trg = tom <unk> <unk> tom <unk> we tom <unk> . <eos>\n",
            "bleu score = 0.316227766016838\n",
            "--------------------------------------------\n",
            "src = nhìn anh ta nói_chuyện , bạn có_thể tưởng anh ta là con_gái .\n",
            "trg = to see him talk , you might think he 's a girl .\n",
            "predicted trg = the go the go <unk> the go more . <eos>\n",
            "bleu score = 0.316227766016838\n",
            "--------------------------------------------\n",
            "src = tôi sắp cạn ý_tưởng rồi .\n",
            "trg = i 'm running out of ideas .\n",
            "predicted trg = to all n't piano 's tom . <eos>\n",
            "bleu score = 0.3535533905932738\n",
            "--------------------------------------------\n",
            "src = tôi có vài món quà .\n",
            "trg = i have some gifts .\n",
            "predicted trg = he it could you no . <eos>\n",
            "bleu score = 0.3779644730092272\n",
            "--------------------------------------------\n",
            "src = năm sau , tôi sẽ quay lại boston .\n",
            "trg = next year , i 'll return to boston .\n",
            "predicted trg = do a a at you you you do . <eos>\n",
            "bleu score = 0.447213595499958\n",
            "--------------------------------------------\n",
            "src = ấy có sợ chó không ?\n",
            "trg = are you afraid of dogs ?\n",
            "predicted trg = tom <unk> that know a do a . <eos>\n",
            "bleu score = 0.4714045207910317\n",
            "--------------------------------------------\n",
            "src = không phải dễ để có sức_khỏe tốt .\n",
            "trg = it 's not always easy to stay healthy .\n",
            "predicted trg = i get n't <unk> you n't n't <unk> . <eos>\n",
            "bleu score = 0.447213595499958\n"
          ],
          "name": "stdout"
        }
      ]
    },
    {
      "cell_type": "markdown",
      "metadata": {
        "id": "xB63BE54Y3yL"
      },
      "source": [
        "fra_eng"
      ]
    },
    {
      "cell_type": "code",
      "metadata": {
        "colab": {
          "base_uri": "https://localhost:8080/"
        },
        "id": "uau1CBmwY19w",
        "outputId": "6f4fab1d-82da-4dce-d907-ba2629f33f05"
      },
      "source": [
        "#BLEU = "
      ],
      "execution_count": null,
      "outputs": [
        {
          "output_type": "stream",
          "text": [
            "--------------------------------------------\n",
            "src = je suis incroyablement occupé .\n",
            "trg = i 'm incredibly busy .\n",
            "predicted trg = i 'm <unk> . <eos>\n",
            "bleu score = 0.6324555320336759\n",
            "--------------------------------------------\n",
            "src = n' appelles - tu jamais tom   ?\n",
            "trg = do n't you ever call tom ?\n",
            "predicted trg = do n't you you tom ? <eos>\n",
            "bleu score = 0.3779644730092272\n",
            "--------------------------------------------\n",
            "src = vous êtes la personne la plus incroyable que j' aie jamais rencontrée .\n",
            "trg = you 're the most incredible person i 've ever met .\n",
            "predicted trg = you 're the <unk> <unk> to <unk> . <eos>\n",
            "bleu score = 0.2982797722714565\n",
            "--------------------------------------------\n",
            "src = tu es un romantique .\n",
            "trg = you 're a romantic .\n",
            "predicted trg = you 're a <unk> . <eos>\n",
            "bleu score = 0.41368954504257255\n",
            "--------------------------------------------\n",
            "src = je viens d' arriver . je n' ai pas même encore débouclé mes valises .\n",
            "trg = i have just arrived . i have n't even unpacked my bags .\n",
            "predicted trg = i had i had , i was <unk> . <eos>\n",
            "bleu score = 0.447213595499958\n",
            "--------------------------------------------\n",
            "src = je pense qu' il est temps pour moi de trouver un emploi .\n",
            "trg = i think it 's time for me to get a job .\n",
            "predicted trg = i think that 's that he <unk> to <unk> . <eos>\n",
            "bleu score = 0.4264014327112209\n",
            "--------------------------------------------\n",
            "src = allez - vous au concert ce soir   ?\n",
            "trg = are you going to the concert tonight ?\n",
            "predicted trg = are you <unk> the <unk> ? <eos>\n",
            "bleu score = 0.3779644730092272\n",
            "--------------------------------------------\n",
            "src = personne ne s' occupe de moi .\n",
            "trg = nobody cares for me .\n",
            "predicted trg = do n't have to <unk> . <eos>\n",
            "bleu score = 0.3779644730092272\n",
            "--------------------------------------------\n",
            "src = les gens ne peuvent pas faire beaucoup de choses en même temps .\n",
            "trg = people ca n't do a lot of things at the same time .\n"
          ],
          "name": "stdout"
        },
        {
          "output_type": "stream",
          "text": [
            "/usr/local/lib/python3.6/dist-packages/nltk/translate/bleu_score.py:490: UserWarning: \n",
            "Corpus/Sentence contains 0 counts of 2-gram overlaps.\n",
            "BLEU scores might be undesirable; use SmoothingFunction().\n",
            "  warnings.warn(_msg)\n"
          ],
          "name": "stderr"
        },
        {
          "output_type": "stream",
          "text": [
            "predicted trg = the <unk> not not to to be able to be . <eos>\n",
            "bleu score = 0.28867513459481287\n",
            "--------------------------------------------\n",
            "src = je déteste conduire .\n",
            "trg = i hate driving .\n",
            "predicted trg = i hate <unk> . <eos>\n",
            "bleu score = 0.6324555320336759\n",
            "--------------------------------------------\n",
            "src = n' es - tu pas sorti   ?\n",
            "trg = did n't you go out ?\n",
            "predicted trg = do n't you do you ? <eos>\n",
            "bleu score = 0.3779644730092272\n",
            "--------------------------------------------\n",
            "src = dans quel but épargnez - vous ?\n",
            "trg = what are you saving up for ?\n",
            "predicted trg = what are you <unk> you ? <eos>\n",
            "bleu score = 0.3779644730092272\n",
            "--------------------------------------------\n",
            "src = tom a envoyé à mary une carte d' anniversaire .\n",
            "trg = tom sent mary a birthday card .\n",
            "predicted trg = tom had a lot of mary . <eos>\n",
            "bleu score = 0.5\n",
            "--------------------------------------------\n",
            "src = ce film était amusant .\n",
            "trg = that movie was amusing .\n",
            "predicted trg = that was was mary . <eos>\n",
            "bleu score = 0.408248290463863\n",
            "--------------------------------------------\n",
            "src = maintenant il regarde la télé .\n",
            "trg = he is watching tv now .\n",
            "predicted trg = everything is a beautiful <unk> . <eos>\n",
            "bleu score = 0.4633657281473354\n",
            "--------------------------------------------\n",
            "src = nous quittâmes tôt la projection .\n",
            "trg = we left the movie early .\n",
            "predicted trg = we 're <unk> <unk> . <eos>\n",
            "bleu score = 0.408248290463863\n",
            "--------------------------------------------\n",
            "src = si seulement j' avais eu quelques années de plus , ils m' auraient laissée rentrer dans le bar .\n",
            "trg = if only i 'd been a couple of years older , they would 've let me into the bar .\n",
            "predicted trg = if i had a <unk> , i , i <unk> , <unk> <unk> . <eos>\n",
            "bleu score = 0.5163977794943222\n",
            "--------------------------------------------\n",
            "src = je viens d' arriver . je n' ai pas même encore débouclé mes valises .\n",
            "trg = i have just arrived . i have n't even unpacked my bags .\n",
            "predicted trg = i had i had , i was <unk> . <eos>\n",
            "bleu score = 0.447213595499958\n",
            "--------------------------------------------\n",
            "src = j' adore les comédies .\n",
            "trg = i love comedies .\n",
            "predicted trg = i was <unk> . <eos>\n",
            "bleu score = 0.6324555320336759\n",
            "--------------------------------------------\n",
            "src = les enfants ont besoin d' amour , particulièrement lorsqu' ils ne le méritent pas .\n",
            "trg = children need love , especially when they do n't deserve it .\n",
            "predicted trg = \" <unk> <unk> <unk> , , you , you . <eos>\n",
            "bleu score = 0.4264014327112209\n"
          ],
          "name": "stdout"
        }
      ]
    },
    {
      "cell_type": "markdown",
      "metadata": {
        "id": "GeiIboB_Nhom"
      },
      "source": [
        "deu_eng"
      ]
    },
    {
      "cell_type": "code",
      "metadata": {
        "colab": {
          "base_uri": "https://localhost:8080/"
        },
        "id": "6D1am9BVNgnD",
        "outputId": "489b93cd-e35d-4a3c-d5fb-36fe0da2c97a"
      },
      "source": [
        "#BLEU = "
      ],
      "execution_count": null,
      "outputs": [
        {
          "output_type": "stream",
          "text": [
            "--------------------------------------------\n",
            "src = bist du denn gar nicht neugierig ?\n",
            "trg = are n't you curious ?\n",
            "predicted trg = are n't you <unk> ? ? <eos>\n",
            "bleu score = 0.3779644730092272\n",
            "--------------------------------------------\n",
            "src = gewitter sind gleichermaßen erschreckend wie aufregend .\n",
            "trg = thunderstorms are both scary and exciting .\n",
            "predicted trg = <unk> <unk> <unk> <unk> <unk> . <eos>\n",
            "bleu score = 0.3276490485424231\n",
            "--------------------------------------------\n",
            "src = meine lieblingssendung wurde abgesetzt .\n",
            "trg = my favorite tv show 's been canceled .\n",
            "predicted trg = my mother was <unk> . <eos>\n",
            "bleu score = 0.408248290463863\n",
            "--------------------------------------------\n",
            "src = tom liebte das glücksspiel .\n",
            "trg = tom loved to gamble .\n",
            "predicted trg = tom never <unk> <unk> . <eos>\n",
            "bleu score = 0.408248290463863\n",
            "--------------------------------------------\n",
            "src = bist du sicher , dass du nichts anderes willst ?\n",
            "trg = are you sure you do n't want anything else ?\n",
            "predicted trg = you 're sure you do you 're going to do ? <eos>\n",
            "bleu score = 0.28867513459481287\n",
            "--------------------------------------------\n",
            "src = ich fragte tom nach dem grund .\n",
            "trg = i asked tom why .\n",
            "predicted trg = i asked tom to . . <eos>\n",
            "bleu score = 0.5345224838248488\n",
            "--------------------------------------------\n",
            "src = ich möchte gerne deine meinung hören .\n",
            "trg = i 'd like to know your opinion .\n",
            "predicted trg = i 'd like to your opinion . <eos>\n",
            "bleu score = 0.5\n",
            "--------------------------------------------\n",
            "src = du brauchst etwas mehr übung .\n",
            "trg = you need some more practice .\n",
            "predicted trg = you need to be <unk> . <eos>\n",
            "bleu score = 0.3276490485424231\n",
            "--------------------------------------------\n",
            "src = tom füllte die badewanne mit heißem wasser .\n",
            "trg = tom filled the bathtub with hot water .\n",
            "predicted trg = tom <unk> the <unk> <unk> <unk> . <eos>\n",
            "bleu score = 0.3535533905932738\n",
            "--------------------------------------------\n",
            "src = ihres ist schlechter .\n",
            "trg = yours is worse .\n"
          ],
          "name": "stdout"
        },
        {
          "output_type": "stream",
          "text": [
            "/usr/local/lib/python3.6/dist-packages/nltk/translate/bleu_score.py:490: UserWarning: \n",
            "Corpus/Sentence contains 0 counts of 2-gram overlaps.\n",
            "BLEU scores might be undesirable; use SmoothingFunction().\n",
            "  warnings.warn(_msg)\n"
          ],
          "name": "stderr"
        },
        {
          "output_type": "stream",
          "text": [
            "predicted trg = yours is worse . <eos>\n",
            "bleu score = 0.447213595499958\n",
            "--------------------------------------------\n",
            "src = „ tatoeba “ bedeutet „ zum beispiel “ auf japanisch .\n",
            "trg = \" tatoeba \" means \" for example \" in japanese .\n",
            "predicted trg = \" <unk> <unk> <unk> <unk> <unk> in the <unk> . <eos>\n",
            "bleu score = 0.4264014327112209\n",
            "--------------------------------------------\n",
            "src = ich wünsche , dass sie das in betracht ziehen .\n",
            "trg = i want you to consider this .\n",
            "predicted trg = i do it to do you . <eos>\n",
            "bleu score = 0.5\n",
            "--------------------------------------------\n",
            "src = der taifun verhinderte den start unseres flugzeugs .\n",
            "trg = the typhoon prevented our plane from leaving .\n",
            "predicted trg = the <unk> <unk> <unk> <unk> <unk> <unk> . <eos>\n",
            "bleu score = 0.3333333333333333\n",
            "--------------------------------------------\n",
            "src = sieh dir an , was tom trägt .\n",
            "trg = look at what tom 's wearing .\n",
            "predicted trg = you 're tom 's tom . <eos>\n",
            "bleu score = 0.3779644730092272\n",
            "--------------------------------------------\n",
            "src = maria rasiert sich nicht die beine .\n",
            "trg = mary does n't shave her legs .\n",
            "predicted trg = tom did n't drink <unk> . <eos>\n",
            "bleu score = 0.3779644730092272\n",
            "--------------------------------------------\n",
            "src = bitte helfen sie tom !\n",
            "trg = please help tom .\n",
            "predicted trg = please help tom . <eos>\n",
            "bleu score = 0.447213595499958\n",
            "--------------------------------------------\n",
            "src = tom wurde ein messer in den rücken gerammt .\n",
            "trg = tom was stabbed in the back .\n",
            "predicted trg = tom <unk> <unk> <unk> <unk> <unk> . <eos>\n",
            "bleu score = 0.3535533905932738\n",
            "--------------------------------------------\n",
            "src = ich bin wirklich besorgt , dass meine eltern tom nicht mögen werden .\n",
            "trg = i 'm really worried that my parents are n't going to like tom .\n",
            "predicted trg = i thought tom would n't know to do n't . . <eos>\n",
            "bleu score = 0.408248290463863\n",
            "--------------------------------------------\n",
            "src = was hat tom jetzt für möglichkeiten ?\n",
            "trg = what are tom 's options now ?\n",
            "predicted trg = what 's tom <unk> ? ? <eos>\n",
            "bleu score = 0.3779644730092272\n",
            "--------------------------------------------\n",
            "src = alle kannten tom .\n",
            "trg = they all knew tom .\n",
            "predicted trg = everyone <unk> tom . <eos>\n",
            "bleu score = 0.447213595499958\n"
          ],
          "name": "stdout"
        }
      ]
    }
  ]
}